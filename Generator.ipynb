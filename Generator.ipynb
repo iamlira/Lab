{
 "cells": [
  {
   "cell_type": "code",
   "execution_count": 1,
   "metadata": {
    "collapsed": true
   },
   "outputs": [],
   "source": [
    "import numpy as np\n",
    "import pandas as pd\n",
    "import sys\n",
    "import datetime\n",
    "import os\n",
    "from sklearn.metrics.pairwise import manhattan_distances\n",
    "from scipy.cluster.hierarchy import dendrogram, linkage, fcluster\n",
    "import operator  \n",
    "from functools import reduce\n",
    "import random\n",
    "static_list=[]"
   ]
  },
  {
   "cell_type": "code",
   "execution_count": 2,
   "metadata": {
    "collapsed": true
   },
   "outputs": [],
   "source": [
    "def generator_time_delta(date,range_start,range_end):\n",
    "    return date+datetime.timedelta(seconds=random.randint(range_start,range_end))\n",
    "def date2str(date):\n",
    "    return '  '+datetime.datetime.strftime(date,'%Y/%m/%d %X')"
   ]
  },
  {
   "cell_type": "code",
   "execution_count": 3,
   "metadata": {
    "collapsed": true
   },
   "outputs": [],
   "source": [
    "def count(data,file):\n",
    "    choose_count=0\n",
    "    connect_count=0\n",
    "    assign_count=0\n",
    "    for tmp in data:\n",
    "        if tmp[0].find('choose_start')!=-1 :\n",
    "            choose_count+=1\n",
    "        elif tmp[0].find('connect') != -1 :\n",
    "            connect_count+=1\n",
    "        elif tmp[0].find('assign') != -1 :\n",
    "            assign_count+=1\n",
    "    #print('choose_count : ', choose_count , '   connect_count: ',connect_count , '   assgin_count: ' , assign_count)\n",
    "    return {file:{'choose_count':choose_count,'connect_count':connect_count,'assign_count':assign_count}}"
   ]
  },
  {
   "cell_type": "code",
   "execution_count": 4,
   "metadata": {
    "collapsed": true
   },
   "outputs": [],
   "source": [
    "#读入所有用户操作序列\n",
    "def read_seq(path):#读取单个文件，并分割\n",
    "    f=open(path)\n",
    "    data=f.read().splitlines()\n",
    "    data_seq=[]\n",
    "    for tmp in data:\n",
    "        d=tmp.split(' ')\n",
    "        d.remove('')\n",
    "        data_seq.append(d)\n",
    "    return data_seq\n",
    "\n",
    "\n",
    "def read_all_seq(path):#读取path下面所有不同user目录下的所有文件，并放在user_list中，并生成time_list\n",
    "    user_list=[]\n",
    "    #user_time_list=[]\n",
    "    dirs=os.listdir(path)\n",
    "    for dir in dirs:#所有user目录\n",
    "        user_tmp=[]\n",
    "        #user_time_tmp=[]\n",
    "        files=os.listdir(path+dir)\n",
    "        for file in files:#目录下所有文件\n",
    "            data=read_seq(path+dir+'/'+file)\n",
    "            #pre_data(data)#读取后对data进行数据清洗\n",
    "            user_tmp.append(data)\n",
    "            #user_time_tmp.append(generate_time_seq(data))#将生成的时间序列加入\n",
    "            #print(file)\n",
    "            static_list.append(count(data,file))\n",
    "        user_list.append(user_tmp)\n",
    "        #user_time_list.append(user_time_tmp)\n",
    "    return user_list#,user_time_list\n",
    "user_list=read_all_seq('/home/dope/users/')#user_list就是所有用户所有工程的点击序列，time就是所有用户所有工程的时间序列\n",
    "#print(user_list)"
   ]
  },
  {
   "cell_type": "code",
   "execution_count": 5,
   "metadata": {},
   "outputs": [
    {
     "name": "stdout",
     "output_type": "stream",
     "text": [
      "IOTest4.txt\n",
      "IOTest1.txt\n",
      "IOTest2.txt\n",
      "IOTest3.txt\n"
     ]
    }
   ],
   "source": [
    "for tmp in static_list:\n",
    "    for file in tmp.keys():\n",
    "        print(str(file))"
   ]
  },
  {
   "cell_type": "code",
   "execution_count": 6,
   "metadata": {},
   "outputs": [
    {
     "name": "stdout",
     "output_type": "stream",
     "text": [
      "16 26 14\n",
      "35 47 39\n",
      "42 54 41\n",
      "33 48 33\n",
      "['AddPou  2018/10/03 15:54:03']\n"
     ]
    }
   ],
   "source": [
    "def generator_user2(static_list):\n",
    "    path=\"/home/dope/users/user_2/\"\n",
    "    if not os.path.exists(path):\n",
    "        os.makedirs(path)\n",
    "    start_time=datetime.datetime.strptime(\"2018/10/3 15:54:03\",'%Y/%m/%d %X')\n",
    "    click_seq=['AddPou'+date2str(start_time)]\n",
    "    for files in static_list:\n",
    "        for name in files.keys():\n",
    "            file_name=path+name\n",
    "            if not os.path.exists(file_name):\n",
    "                os.system(r\"touch {}\".format(file_name))#调用系统命令行来创建文件\n",
    "            f=open(file_name,'a+')\n",
    "            f.write('AddPou'+date2str(start_time)+'\\n')\n",
    "            dic=files[name]\n",
    "            #print(dic)\n",
    "            choose_count=dic['choose_count']\n",
    "            connect_count=dic['connect_count']\n",
    "            assign_count=dic['assign_count']\n",
    "            print(choose_count,connect_count,assign_count)\n",
    "            while choose_count>0:\n",
    "                start_time=generator_time_delta(start_time,10,15)\n",
    "                f.write('choose_start'+date2str(start_time)+'\\n')\n",
    "                start_time=generator_time_delta(start_time,10,20)\n",
    "                f.write('choose_end'+date2str(start_time)+'\\n')\n",
    "                choose_count-=1\n",
    "            while assign_count>0:\n",
    "                start_time=generator_time_delta(start_time,16,28)\n",
    "                f.write('move_start'+date2str(start_time)+'\\n')\n",
    "                f.write('move_end'+date2str(start_time)+'\\n')\n",
    "                f.write('move_end'+date2str(start_time)+'\\n')\n",
    "                assign_count-=1\n",
    "            while connect_count>0:\n",
    "                start_time=generator_time_delta(start_time,8,16)\n",
    "                f.write('move_start'+date2str(start_time)+'\\n')\n",
    "                f.write('connect'+date2str(start_time)+'\\n')\n",
    "                f.write('move_end'+date2str(start_time)+'\\n')\n",
    "                connect_count-=1\n",
    "            start_time=generator_time_delta(start_time,3,6)\n",
    "            f.write('SaveProject'+date2str(start_time)+'\\n')\n",
    "            f.close()\n",
    "    print(click_seq)\n",
    "    pass\n",
    "generator_user2(static_list)"
   ]
  },
  {
   "cell_type": "code",
   "execution_count": null,
   "metadata": {
    "collapsed": true
   },
   "outputs": [],
   "source": [
    "def generator_user3(static_list):\n",
    "    path=\"/home/dope/users/user_3/\"\n",
    "    if not os.path.exists(path):\n",
    "        os.makedirs(path)\n",
    "    start_time=datetime.datetime.strptime(\"2018/10/3 18:54:03\",'%Y/%m/%d %X')\n",
    "    click_seq=['AddPou'+date2str(start_time)]\n",
    "    for files in static_list:\n",
    "        for name in files.keys():\n",
    "            file_name=path+name\n",
    "            if not os.path.exists(file_name):\n",
    "                os.system(r\"touch {}\".format(file_name))#调用系统命令行来创建文件\n",
    "            f=open(file_name,'a+')\n",
    "            f.write('AddPou'+date2str(start_time)+'\\n')\n",
    "            dic=files[name]\n",
    "            #print(dic)\n",
    "            choose_count=dic['choose_count']\n",
    "            connect_count=dic['connect_count']\n",
    "            assign_count=dic['assign_count']\n",
    "            print(choose_count,connect_count,assign_count)\n",
    "            while choose_count>0:\n",
    "                start_time=generator_time_delta(start_time,10,15)\n",
    "                f.write('choose_start'+date2str(start_time)+'\\n')\n",
    "                start_time=generator_time_delta(start_time,10,20)\n",
    "                f.write('choose_end'+date2str(start_time)+'\\n')\n",
    "                choose_count-=1\n",
    "            while assign_count>0:\n",
    "                start_time=generator_time_delta(start_time,16,28)\n",
    "                f.write('move_start'+date2str(start_time)+'\\n')\n",
    "                f.write('move_end'+date2str(start_time)+'\\n')\n",
    "                f.write('move_end'+date2str(start_time)+'\\n')\n",
    "                assign_count-=1\n",
    "            while connect_count>0:\n",
    "                start_time=generator_time_delta(start_time,8,16)\n",
    "                f.write('move_start'+date2str(start_time)+'\\n')\n",
    "                f.write('connect'+date2str(start_time)+'\\n')\n",
    "                f.write('move_end'+date2str(start_time)+'\\n')\n",
    "                connect_count-=1\n",
    "            start_time=generator_time_delta(start_time,3,6)\n",
    "            f.write('SaveProject'+date2str(start_time)+'\\n')\n",
    "            f.close()\n",
    "    print(click_seq)\n",
    "    pass\n",
    "generator_user3(static_list)"
   ]
  }
 ],
 "metadata": {
  "kernelspec": {
   "display_name": "Python 3",
   "language": "python",
   "name": "python3"
  },
  "language_info": {
   "codemirror_mode": {
    "name": "ipython",
    "version": 3
   },
   "file_extension": ".py",
   "mimetype": "text/x-python",
   "name": "python",
   "nbconvert_exporter": "python",
   "pygments_lexer": "ipython3",
   "version": "3.6.3"
  }
 },
 "nbformat": 4,
 "nbformat_minor": 2
}
