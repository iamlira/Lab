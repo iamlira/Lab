{
 "cells": [
  {
   "cell_type": "code",
   "execution_count": 1,
   "metadata": {},
   "outputs": [
    {
     "name": "stderr",
     "output_type": "stream",
     "text": [
      "/anaconda3/lib/python3.6/importlib/_bootstrap.py:219: RuntimeWarning: numpy.dtype size changed, may indicate binary incompatibility. Expected 96, got 88\n",
      "  return f(*args, **kwds)\n",
      "/anaconda3/lib/python3.6/importlib/_bootstrap.py:219: RuntimeWarning: numpy.dtype size changed, may indicate binary incompatibility. Expected 96, got 88\n",
      "  return f(*args, **kwds)\n",
      "/anaconda3/lib/python3.6/importlib/_bootstrap.py:219: RuntimeWarning: numpy.dtype size changed, may indicate binary incompatibility. Expected 96, got 88\n",
      "  return f(*args, **kwds)\n",
      "/anaconda3/lib/python3.6/importlib/_bootstrap.py:219: RuntimeWarning: numpy.dtype size changed, may indicate binary incompatibility. Expected 96, got 88\n",
      "  return f(*args, **kwds)\n",
      "/anaconda3/lib/python3.6/importlib/_bootstrap.py:219: RuntimeWarning: numpy.dtype size changed, may indicate binary incompatibility. Expected 96, got 88\n",
      "  return f(*args, **kwds)\n",
      "/anaconda3/lib/python3.6/importlib/_bootstrap.py:219: RuntimeWarning: numpy.dtype size changed, may indicate binary incompatibility. Expected 96, got 88\n",
      "  return f(*args, **kwds)\n"
     ]
    }
   ],
   "source": [
    "import numpy as np\n",
    "import pandas as pd\n",
    "import sys\n",
    "from sklearn.metrics.pairwise import manhattan_distances"
   ]
  },
  {
   "cell_type": "code",
   "execution_count": 2,
   "metadata": {},
   "outputs": [],
   "source": [
    "f=open('/Users/iamlira/Downloads/IOTest2.txt')\n",
    "data=f.read().splitlines()\n",
    "data_seq=[]\n",
    "for tmp in data:\n",
    "    d=tmp.split(' ')\n",
    "    d.remove('')\n",
    "    data_seq.append(d)"
   ]
  },
  {
   "cell_type": "code",
   "execution_count": 3,
   "metadata": {},
   "outputs": [
    {
     "name": "stdout",
     "output_type": "stream",
     "text": [
      "['AddPou', '2018/9/4', '21:46:19']\n",
      "['choose_start', '2018/9/4', '21:46:45']\n",
      "['choose_end', '2018/9/4', '21:46:46']\n",
      "['choose_start', '2018/9/4', '21:47:05']\n",
      "['choose_end', '2018/9/4', '21:47:07']\n",
      "['choose_start', '2018/9/4', '21:47:11']\n",
      "['choose_end', '2018/9/4', '21:47:12']\n",
      "['choose_start', '2018/9/4', '21:47:16']\n",
      "['choose_end', '2018/9/4', '21:47:17']\n",
      "['choose_start', '2018/9/4', '21:47:23']\n",
      "['choose_end', '2018/9/4', '21:47:24']\n",
      "['choose_start', '2018/9/4', '21:47:28']\n",
      "['choose_end', '2018/9/4', '21:47:29']\n",
      "['choose_start', '2018/9/4', '21:47:35']\n",
      "['choose_end', '2018/9/4', '21:47:36']\n",
      "['choose_start', '2018/9/4', '21:47:43']\n",
      "['choose_end', '2018/9/4', '21:47:44']\n",
      "['choose_start', '2018/9/4', '21:47:52']\n",
      "['choose_end', '2018/9/4', '21:47:54']\n",
      "['connect', '2018/9/4', '21:48:22']\n",
      "['connect', '2018/9/4', '21:48:23']\n",
      "['connect', '2018/9/4', '21:48:24']\n",
      "['connect', '2018/9/4', '21:48:26']\n",
      "['connect', '2018/9/4', '21:48:27']\n",
      "['connect', '2018/9/4', '21:48:28']\n",
      "['connect', '2018/9/4', '21:48:31']\n",
      "['connect', '2018/9/4', '21:48:31']\n",
      "['connect', '2018/9/4', '21:48:32']\n",
      "['connect', '2018/9/4', '21:48:35']\n",
      "['connect', '2018/9/4', '21:48:36']\n",
      "['assign', '2018/9/4', '21:48:46']\n",
      "['assign', '2018/9/4', '21:49:02']\n",
      "['move_start', '2018/9/4', '21:49:37']\n",
      "['move_end', '2018/9/4', '21:49:38']\n",
      "['assign', '2018/9/4', '21:49:39']\n",
      "['assign', '2018/9/4', '21:49:44']\n",
      "['move_start', '2018/9/4', '21:49:47']\n",
      "['move_end', '2018/9/4', '21:49:47']\n",
      "['assign', '2018/9/4', '21:49:49']\n",
      "['assign', '2018/9/4', '21:49:51']\n",
      "['assign', '2018/9/4', '21:49:56']\n",
      "['SaveProject', '2018/9/4', '21:50:39']\n"
     ]
    }
   ],
   "source": [
    "def pre_data(data):\n",
    "    n=len(data)\n",
    "    i=0\n",
    "    while i<n:\n",
    "        if(data[i][0]=='connect'):\n",
    "            if(data[i-1][0]=='move_start'):\n",
    "                del(data[i-1])\n",
    "                i=i-1\n",
    "                n=len(data)\n",
    "                continue\n",
    "            if(data[i+1][0]=='move_end'):\n",
    "                del(data[i+1])\n",
    "                n=len(data)\n",
    "                continue\n",
    "        if(data[i][0]=='assign'):\n",
    "            if(data[i-1][0]=='move_end' and data[i-2][0]=='move_end' and data[i-3][0]=='move_start'):\n",
    "                del(data[i-1])\n",
    "                del(data[i-2])\n",
    "                del(data[i-3])\n",
    "                i=i-2\n",
    "                n=len(data)\n",
    "                continue\n",
    "        n=len(data)\n",
    "        i=i+1\n",
    "    \n",
    "pre_data(data_seq)\n",
    "for s in data_seq:\n",
    "    print(s)"
   ]
  },
  {
   "cell_type": "code",
   "execution_count": 4,
   "metadata": {},
   "outputs": [
    {
     "name": "stdout",
     "output_type": "stream",
     "text": [
      "\n",
      "BCBA\n"
     ]
    }
   ],
   "source": [
    "def lcs(a,b):\n",
    "  lena=len(a)\n",
    "  lenb=len(b)\n",
    "  c=[[0 for i in range(lenb+1)] for j in range(lena+1)]\n",
    "  flag=[[0 for i in range(lenb+1)] for j in range(lena+1)]\n",
    "  for i in range(lena):\n",
    "    for j in range(lenb):\n",
    "      if a[i]==b[j]:\n",
    "        c[i+1][j+1]=c[i][j]+1\n",
    "        flag[i+1][j+1]='ok'\n",
    "      elif c[i+1][j]>c[i][j+1]:\n",
    "        c[i+1][j+1]=c[i+1][j]\n",
    "        flag[i+1][j+1]='left'\n",
    "      else:\n",
    "        c[i+1][j+1]=c[i][j+1]\n",
    "        flag[i+1][j+1]='up'\n",
    "  return c,flag\n",
    "\n",
    "def printLcs(flag,a,i,j):\n",
    "  if i==0 or j==0:\n",
    "    return\n",
    "  if flag[i][j]=='ok':\n",
    "    printLcs(flag,a,i-1,j-1)\n",
    "    print(a[i-1],end='')\n",
    "  elif flag[i][j]=='left':\n",
    "    printLcs(flag,a,i,j-1)\n",
    "  else:\n",
    "    printLcs(flag,a,i-1,j)\n",
    "    \n",
    "a='ABCBDAB'\n",
    "b='BDCABA'\n",
    "c,flag=lcs(a,b)\n",
    "#for i in c:\n",
    "#  print(i)\n",
    "#print('')\n",
    "#for j in flag:\n",
    "#  print(j)\n",
    "print('')\n",
    "printLcs(flag,a,len(a),len(b))\n",
    "print('')"
   ]
  },
  {
   "cell_type": "code",
   "execution_count": 5,
   "metadata": {},
   "outputs": [],
   "source": [
    "def dtw(X,Y):\n",
    "     M=[[manhattan_distances(X[i],Y[i]) for i in range(len(X))] for j in range(len(Y))]\n",
    "     l1=len(X)\n",
    "     l2=len(Y) \n",
    "     D=[[0 for i in range(l1+1)] for i in range(l2+1)]\n",
    "     D[0][0]=0 \n",
    "     for i in range(1,l1+1):\n",
    "         D[0][i]=sys.maxsize\n",
    "     for j in range(1,l2+1):\n",
    "         D[j][0]=sys.maxsize\n",
    "     for j in range(1,l2+1):\n",
    "         for i in range(1,l1+1):\n",
    "             D[j][i]=M[j-1][i-1]+min(D[j-1][i],D[j][i-1],D[j-1][i-1]+M[j-1][i-1])\n",
    "     print(D[-1][-1])"
   ]
  },
  {
   "cell_type": "code",
   "execution_count": 6,
   "metadata": {},
   "outputs": [
    {
     "name": "stdout",
     "output_type": "stream",
     "text": [
      "[[4.]]\n"
     ]
    }
   ],
   "source": [
    "X=[1,2,3,4]\n",
    "Y=[1,2,7,4,5]\n",
    "dtw(X,Y)"
   ]
  },
  {
   "cell_type": "code",
   "execution_count": 7,
   "metadata": {},
   "outputs": [
    {
     "name": "stdout",
     "output_type": "stream",
     "text": [
      "2\n",
      "[[11511.]]\n"
     ]
    }
   ],
   "source": [
    "def edit_distance(str1, str2):\n",
    "    matrix = [[i+j for j in range(len(str2) + 1)] for i in range(len(str1) + 1)]\n",
    "    for i in range(1,len(str1)+1):\n",
    "        for j in range(1,len(str2)+1):\n",
    "            if str1[i-1] == str2[j-1]:\n",
    "                d = 0\n",
    "            else:\n",
    "                d = 1\n",
    "            matrix[i][j] = min(matrix[i-1][j]+1,matrix[i][j-1]+1,matrix[i-1][j-1]+d)\n",
    "    return matrix[len(str1)][len(str2)]\n",
    "\n",
    "print(edit_distance('1234','12745'))\n",
    "print(manhattan_distances('1234','12745'))"
   ]
  },
  {
   "cell_type": "code",
   "execution_count": 8,
   "metadata": {},
   "outputs": [
    {
     "name": "stdout",
     "output_type": "stream",
     "text": [
      "0.5\n"
     ]
    }
   ],
   "source": [
    "def k_gram(seq,k):\n",
    "    kgram=set()\n",
    "    n=len(seq)\n",
    "    for i in range(n-k+1):\n",
    "        kgram.add(tuple(seq[i:i+k]))\n",
    "    return kgram\n",
    "\n",
    "def Dk(gram_1,gram_2):\n",
    "    intersection=gram_1.intersection(gram_2)\n",
    "    union=gram_1.union(gram_2)\n",
    "    return 1-(len(intersection)/len(union))\n",
    "\n",
    "def my_algo(x,y,k):\n",
    "    x_gram=k_gram(x,k)\n",
    "    y_gram=k_gram(y,k)\n",
    "    return Dk(x_gram,y_gram)\n",
    "\n",
    "a=[2,3,4]\n",
    "b=[1,2,3,4]\n",
    "print(my_algo(a,b,3))"
   ]
  }
 ],
 "metadata": {
  "kernelspec": {
   "display_name": "Python 3",
   "language": "python",
   "name": "python3"
  },
  "language_info": {
   "codemirror_mode": {
    "name": "ipython",
    "version": 3
   },
   "file_extension": ".py",
   "mimetype": "text/x-python",
   "name": "python",
   "nbconvert_exporter": "python",
   "pygments_lexer": "ipython3",
   "version": "3.6.5"
  }
 },
 "nbformat": 4,
 "nbformat_minor": 2
}
