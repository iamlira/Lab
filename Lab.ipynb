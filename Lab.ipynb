{
 "cells": [
  {
   "cell_type": "code",
   "execution_count": 1,
   "metadata": {
    "collapsed": true
   },
   "outputs": [],
   "source": [
    "import numpy as np\n",
    "import pandas as pd\n",
    "import sys\n",
    "import datetime\n",
    "import os\n",
    "from sklearn.metrics.pairwise import manhattan_distances\n",
    "from scipy.cluster.hierarchy import dendrogram, linkage, fcluster"
   ]
  },
  {
   "cell_type": "code",
   "execution_count": 2,
   "metadata": {
    "collapsed": true
   },
   "outputs": [],
   "source": [
    "#定义可计算操作时间的用户操作集合\n",
    "choose='choose'\n",
    "choose_start='choose_start'\n",
    "choose_end='choose_end'\n",
    "connect='connect'\n",
    "assign='assign'\n",
    "move='move'\n",
    "move_start='move_start'\n",
    "move_end='move_end'\n",
    "save='SaveProject'\n",
    "addpou='AddPou'\n",
    "copy='copy'\n",
    "paste='paste'\n",
    "delete='delete'\n",
    "cut='cut'\n",
    "\n",
    "\n",
    "behavior_list=[choose,connect,assign,move]\n",
    "\n",
    "def init_dic(): #初始化可计算操作时间用户操作集合\n",
    "    result={choose:0,connect:0,assign:0,move:0}\n",
    "    return result\n",
    "def behavior2char(data):\n",
    "    result=''\n",
    "    if data == choose_start:\n",
    "        result='A'\n",
    "    elif data == connect:\n",
    "        result='B'\n",
    "    elif data == assign:\n",
    "        result='C'\n",
    "    elif data == move_start:\n",
    "        result='D'\n",
    "    elif data == save:\n",
    "        result='E'\n",
    "    elif data == addpou:\n",
    "        result='F'\n",
    "    elif data == copy:\n",
    "        result='G'\n",
    "    elif data == paste:\n",
    "        result='H'\n",
    "    elif data == delete:\n",
    "        result='I'\n",
    "    elif data == cut:\n",
    "        result='J'\n",
    "    return result\n",
    "\n",
    "def behavior2float(data):\n",
    "    result=0\n",
    "    if data == choose_start:\n",
    "        result=1\n",
    "    elif data == connect:\n",
    "        result=2\n",
    "    elif data == assign:\n",
    "        result=3\n",
    "    elif data == move_start:\n",
    "        result=4\n",
    "    elif data == save:\n",
    "        result=5\n",
    "    elif data == addpou:\n",
    "        result=6\n",
    "    elif data == copy:\n",
    "        result=7\n",
    "    elif data == paste:\n",
    "        result=8\n",
    "    elif data == delete:\n",
    "        result=9\n",
    "    elif data == cut:\n",
    "        result=10\n",
    "    else:\n",
    "        return\n",
    "    return result"
   ]
  },
  {
   "cell_type": "code",
   "execution_count": 3,
   "metadata": {
    "collapsed": true
   },
   "outputs": [],
   "source": [
    "def pre_data(data): #平台记录代码有bug，这里需要对bug产生对数据进行处理\n",
    "    n=len(data)\n",
    "    i=0\n",
    "    while i<n:\n",
    "        if(data[i][0]=='connect'):\n",
    "            if(data[i-1][0]=='move_start'):\n",
    "                del(data[i-1])\n",
    "                i=i-1\n",
    "                n=len(data)\n",
    "                continue\n",
    "            if(data[i+1][0]=='move_end'):\n",
    "                del(data[i+1])\n",
    "                n=len(data)\n",
    "                continue\n",
    "        if(data[i][0]=='assign'):\n",
    "            if(data[i-1][0]=='move_end' and data[i-2][0]=='move_end' and data[i-3][0]=='move_start'):\n",
    "                del(data[i-1])\n",
    "                del(data[i-2])\n",
    "                del(data[i-3])\n",
    "                i=i-2\n",
    "                n=len(data)\n",
    "                continue\n",
    "        n=len(data)\n",
    "        i=i+1\n",
    "    \n",
    "    \n",
    "def generate_time_seq(data): #把数据序列中对时间节点转换成date存入序列\n",
    "    time_seq=[]\n",
    "    for tmp in data:\n",
    "        date_str=tmp[1]+' '+tmp[2]\n",
    "        date = datetime.datetime.strptime(date_str,'%Y/%m/%d %X')\n",
    "        time_seq.append(date)\n",
    "    return time_seq\n",
    "    \n",
    "#pre_data(data_seq)\n",
    "#time_seq=generate_time_seq(data_seq)\n",
    "#for s in data_seq:\n",
    "#    print(s)\n",
    "#for t in time_seq:\n",
    "#    print(t)"
   ]
  },
  {
   "cell_type": "code",
   "execution_count": 4,
   "metadata": {},
   "outputs": [
    {
     "name": "stdout",
     "output_type": "stream",
     "text": [
      "[[[['AddPou', '2018/9/4', '21:46:19'], ['choose_start', '2018/9/4', '21:46:45'], ['choose_end', '2018/9/4', '21:46:46'], ['choose_start', '2018/9/4', '21:47:05'], ['choose_end', '2018/9/4', '21:47:07'], ['choose_start', '2018/9/4', '21:47:11'], ['choose_end', '2018/9/4', '21:47:12'], ['choose_start', '2018/9/4', '21:47:16'], ['choose_end', '2018/9/4', '21:47:17'], ['choose_start', '2018/9/4', '21:47:23'], ['choose_end', '2018/9/4', '21:47:24'], ['choose_start', '2018/9/4', '21:47:28'], ['choose_end', '2018/9/4', '21:47:29'], ['choose_start', '2018/9/4', '21:47:35'], ['choose_end', '2018/9/4', '21:47:36'], ['choose_start', '2018/9/4', '21:47:43'], ['choose_end', '2018/9/4', '21:47:44'], ['choose_start', '2018/9/4', '21:47:52'], ['choose_end', '2018/9/4', '21:47:54'], ['connect', '2018/9/4', '21:48:22'], ['connect', '2018/9/4', '21:48:23'], ['connect', '2018/9/4', '21:48:24'], ['connect', '2018/9/4', '21:48:26'], ['connect', '2018/9/4', '21:48:27'], ['connect', '2018/9/4', '21:48:28'], ['connect', '2018/9/4', '21:48:31'], ['connect', '2018/9/4', '21:48:31'], ['connect', '2018/9/4', '21:48:32'], ['connect', '2018/9/4', '21:48:35'], ['connect', '2018/9/4', '21:48:36'], ['assign', '2018/9/4', '21:48:46'], ['assign', '2018/9/4', '21:49:02'], ['move_start', '2018/9/4', '21:49:37'], ['move_end', '2018/9/4', '21:49:38'], ['assign', '2018/9/4', '21:49:39'], ['assign', '2018/9/4', '21:49:44'], ['move_start', '2018/9/4', '21:49:47'], ['move_end', '2018/9/4', '21:49:47'], ['assign', '2018/9/4', '21:49:49'], ['assign', '2018/9/4', '21:49:51'], ['assign', '2018/9/4', '21:49:56'], ['SaveProject', '2018/9/4', '21:50:39']], [['AddPou', '2018/9/4', '21:46:19'], ['choose_start', '2018/9/4', '21:46:45'], ['choose_end', '2018/9/4', '21:46:46'], ['choose_start', '2018/9/4', '21:47:05'], ['choose_end', '2018/9/4', '21:47:07'], ['choose_start', '2018/9/4', '21:47:11'], ['choose_end', '2018/9/4', '21:47:12'], ['choose_start', '2018/9/4', '21:47:16'], ['choose_end', '2018/9/4', '21:47:17'], ['choose_start', '2018/9/4', '21:47:23'], ['choose_end', '2018/9/4', '21:47:24'], ['choose_start', '2018/9/4', '21:47:28'], ['choose_end', '2018/9/4', '21:47:29'], ['choose_start', '2018/9/4', '21:47:35'], ['choose_end', '2018/9/4', '21:47:36'], ['choose_start', '2018/9/4', '21:47:43'], ['choose_end', '2018/9/4', '21:47:44'], ['choose_start', '2018/9/4', '21:47:52'], ['choose_end', '2018/9/4', '21:47:54'], ['connect', '2018/9/4', '21:48:22'], ['connect', '2018/9/4', '21:48:23'], ['connect', '2018/9/4', '21:48:24'], ['connect', '2018/9/4', '21:48:26'], ['connect', '2018/9/4', '21:48:27'], ['connect', '2018/9/4', '21:48:28'], ['connect', '2018/9/4', '21:48:31'], ['connect', '2018/9/4', '21:48:31'], ['connect', '2018/9/4', '21:48:32'], ['connect', '2018/9/4', '21:48:35'], ['connect', '2018/9/4', '21:48:36'], ['assign', '2018/9/4', '21:48:46'], ['assign', '2018/9/4', '21:49:02'], ['move_start', '2018/9/4', '21:49:37'], ['move_end', '2018/9/4', '21:49:38'], ['assign', '2018/9/4', '21:49:39'], ['assign', '2018/9/4', '21:49:44'], ['move_start', '2018/9/4', '21:49:47'], ['move_end', '2018/9/4', '21:49:47'], ['assign', '2018/9/4', '21:49:49'], ['assign', '2018/9/4', '21:49:51'], ['assign', '2018/9/4', '21:49:56'], ['SaveProject', '2018/9/4', '21:50:39']]], [[['AddPou', '2018/9/4', '21:46:19'], ['choose_start', '2018/9/4', '21:46:45'], ['choose_end', '2018/9/4', '21:46:46'], ['choose_start', '2018/9/4', '21:47:05'], ['choose_end', '2018/9/4', '21:47:07'], ['choose_start', '2018/9/4', '21:47:11'], ['choose_end', '2018/9/4', '21:47:12'], ['choose_start', '2018/9/4', '21:47:16'], ['choose_end', '2018/9/4', '21:47:17'], ['choose_start', '2018/9/4', '21:47:23'], ['choose_end', '2018/9/4', '21:47:24'], ['choose_start', '2018/9/4', '21:47:28'], ['choose_end', '2018/9/4', '21:47:29'], ['choose_start', '2018/9/4', '21:47:35'], ['choose_end', '2018/9/4', '21:47:36'], ['choose_start', '2018/9/4', '21:47:43'], ['choose_end', '2018/9/4', '21:47:44'], ['choose_start', '2018/9/4', '21:47:52'], ['choose_end', '2018/9/4', '21:47:54'], ['connect', '2018/9/4', '21:48:22'], ['connect', '2018/9/4', '21:48:23'], ['connect', '2018/9/4', '21:48:24'], ['connect', '2018/9/4', '21:48:26'], ['connect', '2018/9/4', '21:48:27'], ['connect', '2018/9/4', '21:48:28'], ['connect', '2018/9/4', '21:48:31'], ['connect', '2018/9/4', '21:48:31'], ['connect', '2018/9/4', '21:48:32'], ['connect', '2018/9/4', '21:48:35'], ['connect', '2018/9/4', '21:48:36'], ['assign', '2018/9/4', '21:48:46'], ['assign', '2018/9/4', '21:49:02'], ['move_start', '2018/9/4', '21:49:37'], ['move_end', '2018/9/4', '21:49:38'], ['assign', '2018/9/4', '21:49:39'], ['assign', '2018/9/4', '21:49:44'], ['move_start', '2018/9/4', '21:49:47'], ['move_end', '2018/9/4', '21:49:47'], ['assign', '2018/9/4', '21:49:49'], ['assign', '2018/9/4', '21:49:51'], ['assign', '2018/9/4', '21:49:56'], ['SaveProject', '2018/9/4', '21:50:39']], [['AddPou', '2018/9/4', '21:46:19'], ['choose_start', '2018/9/4', '21:46:45'], ['choose_end', '2018/9/4', '21:46:46'], ['choose_start', '2018/9/4', '21:47:05'], ['choose_end', '2018/9/4', '21:47:07'], ['choose_start', '2018/9/4', '21:47:11'], ['choose_end', '2018/9/4', '21:47:12'], ['choose_start', '2018/9/4', '21:47:16'], ['choose_end', '2018/9/4', '21:47:17'], ['choose_start', '2018/9/4', '21:47:23'], ['choose_end', '2018/9/4', '21:47:24'], ['choose_start', '2018/9/4', '21:47:28'], ['choose_end', '2018/9/4', '21:47:29'], ['choose_start', '2018/9/4', '21:47:35'], ['choose_end', '2018/9/4', '21:47:36'], ['choose_start', '2018/9/4', '21:47:43'], ['choose_end', '2018/9/4', '21:47:44'], ['choose_start', '2018/9/4', '21:47:52'], ['choose_end', '2018/9/4', '21:47:54'], ['connect', '2018/9/4', '21:48:22'], ['connect', '2018/9/4', '21:48:23'], ['connect', '2018/9/4', '21:48:24'], ['connect', '2018/9/4', '21:48:26'], ['connect', '2018/9/4', '21:48:27'], ['connect', '2018/9/4', '21:48:28'], ['connect', '2018/9/4', '21:48:31'], ['connect', '2018/9/4', '21:48:31'], ['connect', '2018/9/4', '21:48:32'], ['connect', '2018/9/4', '21:48:35'], ['connect', '2018/9/4', '21:48:36'], ['assign', '2018/9/4', '21:48:46'], ['assign', '2018/9/4', '21:49:02'], ['move_start', '2018/9/4', '21:49:37'], ['move_end', '2018/9/4', '21:49:38'], ['assign', '2018/9/4', '21:49:39'], ['assign', '2018/9/4', '21:49:44'], ['move_start', '2018/9/4', '21:49:47'], ['move_end', '2018/9/4', '21:49:47'], ['assign', '2018/9/4', '21:49:49'], ['assign', '2018/9/4', '21:49:51'], ['assign', '2018/9/4', '21:49:56'], ['SaveProject', '2018/9/4', '21:50:39']]]]\n",
      "[[[datetime.datetime(2018, 9, 4, 21, 46, 19), datetime.datetime(2018, 9, 4, 21, 46, 45), datetime.datetime(2018, 9, 4, 21, 46, 46), datetime.datetime(2018, 9, 4, 21, 47, 5), datetime.datetime(2018, 9, 4, 21, 47, 7), datetime.datetime(2018, 9, 4, 21, 47, 11), datetime.datetime(2018, 9, 4, 21, 47, 12), datetime.datetime(2018, 9, 4, 21, 47, 16), datetime.datetime(2018, 9, 4, 21, 47, 17), datetime.datetime(2018, 9, 4, 21, 47, 23), datetime.datetime(2018, 9, 4, 21, 47, 24), datetime.datetime(2018, 9, 4, 21, 47, 28), datetime.datetime(2018, 9, 4, 21, 47, 29), datetime.datetime(2018, 9, 4, 21, 47, 35), datetime.datetime(2018, 9, 4, 21, 47, 36), datetime.datetime(2018, 9, 4, 21, 47, 43), datetime.datetime(2018, 9, 4, 21, 47, 44), datetime.datetime(2018, 9, 4, 21, 47, 52), datetime.datetime(2018, 9, 4, 21, 47, 54), datetime.datetime(2018, 9, 4, 21, 48, 22), datetime.datetime(2018, 9, 4, 21, 48, 23), datetime.datetime(2018, 9, 4, 21, 48, 24), datetime.datetime(2018, 9, 4, 21, 48, 26), datetime.datetime(2018, 9, 4, 21, 48, 27), datetime.datetime(2018, 9, 4, 21, 48, 28), datetime.datetime(2018, 9, 4, 21, 48, 31), datetime.datetime(2018, 9, 4, 21, 48, 31), datetime.datetime(2018, 9, 4, 21, 48, 32), datetime.datetime(2018, 9, 4, 21, 48, 35), datetime.datetime(2018, 9, 4, 21, 48, 36), datetime.datetime(2018, 9, 4, 21, 48, 46), datetime.datetime(2018, 9, 4, 21, 49, 2), datetime.datetime(2018, 9, 4, 21, 49, 37), datetime.datetime(2018, 9, 4, 21, 49, 38), datetime.datetime(2018, 9, 4, 21, 49, 39), datetime.datetime(2018, 9, 4, 21, 49, 44), datetime.datetime(2018, 9, 4, 21, 49, 47), datetime.datetime(2018, 9, 4, 21, 49, 47), datetime.datetime(2018, 9, 4, 21, 49, 49), datetime.datetime(2018, 9, 4, 21, 49, 51), datetime.datetime(2018, 9, 4, 21, 49, 56), datetime.datetime(2018, 9, 4, 21, 50, 39)], [datetime.datetime(2018, 9, 4, 21, 46, 19), datetime.datetime(2018, 9, 4, 21, 46, 45), datetime.datetime(2018, 9, 4, 21, 46, 46), datetime.datetime(2018, 9, 4, 21, 47, 5), datetime.datetime(2018, 9, 4, 21, 47, 7), datetime.datetime(2018, 9, 4, 21, 47, 11), datetime.datetime(2018, 9, 4, 21, 47, 12), datetime.datetime(2018, 9, 4, 21, 47, 16), datetime.datetime(2018, 9, 4, 21, 47, 17), datetime.datetime(2018, 9, 4, 21, 47, 23), datetime.datetime(2018, 9, 4, 21, 47, 24), datetime.datetime(2018, 9, 4, 21, 47, 28), datetime.datetime(2018, 9, 4, 21, 47, 29), datetime.datetime(2018, 9, 4, 21, 47, 35), datetime.datetime(2018, 9, 4, 21, 47, 36), datetime.datetime(2018, 9, 4, 21, 47, 43), datetime.datetime(2018, 9, 4, 21, 47, 44), datetime.datetime(2018, 9, 4, 21, 47, 52), datetime.datetime(2018, 9, 4, 21, 47, 54), datetime.datetime(2018, 9, 4, 21, 48, 22), datetime.datetime(2018, 9, 4, 21, 48, 23), datetime.datetime(2018, 9, 4, 21, 48, 24), datetime.datetime(2018, 9, 4, 21, 48, 26), datetime.datetime(2018, 9, 4, 21, 48, 27), datetime.datetime(2018, 9, 4, 21, 48, 28), datetime.datetime(2018, 9, 4, 21, 48, 31), datetime.datetime(2018, 9, 4, 21, 48, 31), datetime.datetime(2018, 9, 4, 21, 48, 32), datetime.datetime(2018, 9, 4, 21, 48, 35), datetime.datetime(2018, 9, 4, 21, 48, 36), datetime.datetime(2018, 9, 4, 21, 48, 46), datetime.datetime(2018, 9, 4, 21, 49, 2), datetime.datetime(2018, 9, 4, 21, 49, 37), datetime.datetime(2018, 9, 4, 21, 49, 38), datetime.datetime(2018, 9, 4, 21, 49, 39), datetime.datetime(2018, 9, 4, 21, 49, 44), datetime.datetime(2018, 9, 4, 21, 49, 47), datetime.datetime(2018, 9, 4, 21, 49, 47), datetime.datetime(2018, 9, 4, 21, 49, 49), datetime.datetime(2018, 9, 4, 21, 49, 51), datetime.datetime(2018, 9, 4, 21, 49, 56), datetime.datetime(2018, 9, 4, 21, 50, 39)]], [[datetime.datetime(2018, 9, 4, 21, 46, 19), datetime.datetime(2018, 9, 4, 21, 46, 45), datetime.datetime(2018, 9, 4, 21, 46, 46), datetime.datetime(2018, 9, 4, 21, 47, 5), datetime.datetime(2018, 9, 4, 21, 47, 7), datetime.datetime(2018, 9, 4, 21, 47, 11), datetime.datetime(2018, 9, 4, 21, 47, 12), datetime.datetime(2018, 9, 4, 21, 47, 16), datetime.datetime(2018, 9, 4, 21, 47, 17), datetime.datetime(2018, 9, 4, 21, 47, 23), datetime.datetime(2018, 9, 4, 21, 47, 24), datetime.datetime(2018, 9, 4, 21, 47, 28), datetime.datetime(2018, 9, 4, 21, 47, 29), datetime.datetime(2018, 9, 4, 21, 47, 35), datetime.datetime(2018, 9, 4, 21, 47, 36), datetime.datetime(2018, 9, 4, 21, 47, 43), datetime.datetime(2018, 9, 4, 21, 47, 44), datetime.datetime(2018, 9, 4, 21, 47, 52), datetime.datetime(2018, 9, 4, 21, 47, 54), datetime.datetime(2018, 9, 4, 21, 48, 22), datetime.datetime(2018, 9, 4, 21, 48, 23), datetime.datetime(2018, 9, 4, 21, 48, 24), datetime.datetime(2018, 9, 4, 21, 48, 26), datetime.datetime(2018, 9, 4, 21, 48, 27), datetime.datetime(2018, 9, 4, 21, 48, 28), datetime.datetime(2018, 9, 4, 21, 48, 31), datetime.datetime(2018, 9, 4, 21, 48, 31), datetime.datetime(2018, 9, 4, 21, 48, 32), datetime.datetime(2018, 9, 4, 21, 48, 35), datetime.datetime(2018, 9, 4, 21, 48, 36), datetime.datetime(2018, 9, 4, 21, 48, 46), datetime.datetime(2018, 9, 4, 21, 49, 2), datetime.datetime(2018, 9, 4, 21, 49, 37), datetime.datetime(2018, 9, 4, 21, 49, 38), datetime.datetime(2018, 9, 4, 21, 49, 39), datetime.datetime(2018, 9, 4, 21, 49, 44), datetime.datetime(2018, 9, 4, 21, 49, 47), datetime.datetime(2018, 9, 4, 21, 49, 47), datetime.datetime(2018, 9, 4, 21, 49, 49), datetime.datetime(2018, 9, 4, 21, 49, 51), datetime.datetime(2018, 9, 4, 21, 49, 56), datetime.datetime(2018, 9, 4, 21, 50, 39)], [datetime.datetime(2018, 9, 4, 21, 46, 19), datetime.datetime(2018, 9, 4, 21, 46, 45), datetime.datetime(2018, 9, 4, 21, 46, 46), datetime.datetime(2018, 9, 4, 21, 47, 5), datetime.datetime(2018, 9, 4, 21, 47, 7), datetime.datetime(2018, 9, 4, 21, 47, 11), datetime.datetime(2018, 9, 4, 21, 47, 12), datetime.datetime(2018, 9, 4, 21, 47, 16), datetime.datetime(2018, 9, 4, 21, 47, 17), datetime.datetime(2018, 9, 4, 21, 47, 23), datetime.datetime(2018, 9, 4, 21, 47, 24), datetime.datetime(2018, 9, 4, 21, 47, 28), datetime.datetime(2018, 9, 4, 21, 47, 29), datetime.datetime(2018, 9, 4, 21, 47, 35), datetime.datetime(2018, 9, 4, 21, 47, 36), datetime.datetime(2018, 9, 4, 21, 47, 43), datetime.datetime(2018, 9, 4, 21, 47, 44), datetime.datetime(2018, 9, 4, 21, 47, 52), datetime.datetime(2018, 9, 4, 21, 47, 54), datetime.datetime(2018, 9, 4, 21, 48, 22), datetime.datetime(2018, 9, 4, 21, 48, 23), datetime.datetime(2018, 9, 4, 21, 48, 24), datetime.datetime(2018, 9, 4, 21, 48, 26), datetime.datetime(2018, 9, 4, 21, 48, 27), datetime.datetime(2018, 9, 4, 21, 48, 28), datetime.datetime(2018, 9, 4, 21, 48, 31), datetime.datetime(2018, 9, 4, 21, 48, 31), datetime.datetime(2018, 9, 4, 21, 48, 32), datetime.datetime(2018, 9, 4, 21, 48, 35), datetime.datetime(2018, 9, 4, 21, 48, 36), datetime.datetime(2018, 9, 4, 21, 48, 46), datetime.datetime(2018, 9, 4, 21, 49, 2), datetime.datetime(2018, 9, 4, 21, 49, 37), datetime.datetime(2018, 9, 4, 21, 49, 38), datetime.datetime(2018, 9, 4, 21, 49, 39), datetime.datetime(2018, 9, 4, 21, 49, 44), datetime.datetime(2018, 9, 4, 21, 49, 47), datetime.datetime(2018, 9, 4, 21, 49, 47), datetime.datetime(2018, 9, 4, 21, 49, 49), datetime.datetime(2018, 9, 4, 21, 49, 51), datetime.datetime(2018, 9, 4, 21, 49, 56), datetime.datetime(2018, 9, 4, 21, 50, 39)]]]\n"
     ]
    }
   ],
   "source": [
    "#读入所有用户操作序列\n",
    "def read_seq(path):#读取单个文件，并分割\n",
    "    f=open(path)\n",
    "    data=f.read().splitlines()\n",
    "    data_seq=[]\n",
    "    for tmp in data:\n",
    "        d=tmp.split(' ')\n",
    "        d.remove('')\n",
    "        data_seq.append(d)\n",
    "    return data_seq\n",
    "\n",
    "\n",
    "def read_all_seq(path):#读取path下面所有不同user目录下的所有文件，并放在user_list中，并生成time_list\n",
    "    user_list=[]\n",
    "    user_time_list=[]\n",
    "    dirs=os.listdir(path)\n",
    "    for dir in dirs:#所有user目录\n",
    "        user_tmp=[]\n",
    "        user_time_tmp=[]\n",
    "        files=os.listdir(path+dir)\n",
    "        for file in files:#目录下所有文件\n",
    "            data=read_seq(path+dir+'/'+file)\n",
    "            pre_data(data)#读取后对data进行数据清洗\n",
    "            user_tmp.append(data)\n",
    "            user_time_tmp.append(generate_time_seq(data))#将生成的时间序列加入\n",
    "        user_list.append(user_tmp)\n",
    "        user_time_list.append(user_time_tmp)\n",
    "    return user_list,user_time_list\n",
    "user_list,user_time_list=read_all_seq('/home/dope/users/')#user_list就是所有用户所有工程的点击序列，time就是所有用户所有工程的时间序列\n",
    "print(user_list)\n",
    "print(user_time_list)"
   ]
  },
  {
   "cell_type": "markdown",
   "metadata": {},
   "source": [
    "#f=open('/Users/iamlira/Downloads/IOTest2.txt') #mac\n",
    "f=open('/home/dope/users/user_1/IOTest2.txt') #server\n",
    "data=f.read().splitlines()\n",
    "data_seq=[]\n",
    "time_seq=[]\n",
    "for tmp in data:\n",
    "    d=tmp.split(' ')\n",
    "    d.remove('')\n",
    "    data_seq.append(d)\n",
    "print(data_seq)"
   ]
  },
  {
   "cell_type": "markdown",
   "metadata": {},
   "source": [
    "ds1='2018/9/4 21:46:19'\n",
    "ds2='2018/9/4 21:46:22'\n",
    "date = datetime.datetime.strptime(ds1,'%Y/%m/%d %X')\n",
    "date1=datetime.datetime.strptime(ds2,'%Y/%m/%d %X')\n",
    "print((date1-date).total_seconds())"
   ]
  },
  {
   "cell_type": "code",
   "execution_count": 5,
   "metadata": {},
   "outputs": [
    {
     "name": "stdout",
     "output_type": "stream",
     "text": [
      "\n",
      "BCBA\n"
     ]
    }
   ],
   "source": [
    "def pre4lcs(data):\n",
    "    lcs_list=[]\n",
    "    for user in data:\n",
    "        lcs_tmp_list=[]\n",
    "        for user_behavior in user:\n",
    "            lcs_str=''\n",
    "            for tmp in user_behavior:\n",
    "                lcs_str=lcs_str+behavior2char(tmp[0])\n",
    "            lcs_tmp_list.append(lcs_str)\n",
    "        lcs_list.append(lcs_tmp_list)\n",
    "    return lcs_list\n",
    "\n",
    "\n",
    "def lcs(a,b):\n",
    "  lena=len(a)\n",
    "  lenb=len(b)\n",
    "  c=[[0 for i in range(lenb+1)] for j in range(lena+1)]\n",
    "  flag=[[0 for i in range(lenb+1)] for j in range(lena+1)]\n",
    "  for i in range(lena):\n",
    "    for j in range(lenb):\n",
    "      if a[i]==b[j]:\n",
    "        c[i+1][j+1]=c[i][j]+1\n",
    "        flag[i+1][j+1]='ok'\n",
    "      elif c[i+1][j]>c[i][j+1]:\n",
    "        c[i+1][j+1]=c[i+1][j]\n",
    "        flag[i+1][j+1]='left'\n",
    "      else:\n",
    "        c[i+1][j+1]=c[i][j+1]\n",
    "        flag[i+1][j+1]='up'\n",
    "  return c,flag\n",
    "\n",
    "def printLcs(flag,a,i,j):\n",
    "  if i==0 or j==0:\n",
    "    return\n",
    "  if flag[i][j]=='ok':\n",
    "    printLcs(flag,a,i-1,j-1)\n",
    "    print(a[i-1],end='')\n",
    "  elif flag[i][j]=='left':\n",
    "    printLcs(flag,a,i,j-1)\n",
    "  else:\n",
    "    printLcs(flag,a,i-1,j)\n",
    "    \n",
    "a='ABCBDAB'\n",
    "b='BDCABA'\n",
    "c,flag=lcs(a,b)\n",
    "#for i in c:\n",
    "#  print(i)\n",
    "#print('')\n",
    "#for j in flag:\n",
    "#  print(j)\n",
    "print('')\n",
    "printLcs(flag,a,len(a),len(b))\n",
    "print('')"
   ]
  },
  {
   "cell_type": "code",
   "execution_count": 6,
   "metadata": {
    "collapsed": true
   },
   "outputs": [],
   "source": [
    "def pre4dtw(data):\n",
    "    dtw_list=[]\n",
    "    for user in data:\n",
    "        dtw_tmp_list=[]\n",
    "        for user_behavior in user:\n",
    "            dtw_str=[]\n",
    "            for tmp in user_behavior:\n",
    "                temp=behavior2float(tmp[0])\n",
    "                if temp != None:\n",
    "                    dtw_str.append(temp)\n",
    "            dtw_tmp_list.append(dtw_str)\n",
    "        dtw_list.append(dtw_tmp_list)\n",
    "    return dtw_list\n",
    "\n",
    "\n",
    "def dtw(X,Y):\n",
    "     M=[[manhattan_distances(X[i],Y[i]) for i in range(len(X))] for j in range(len(Y))]\n",
    "     l1=len(X)\n",
    "     l2=len(Y) \n",
    "     D=[[0 for i in range(l1+1)] for i in range(l2+1)]\n",
    "     D[0][0]=0 \n",
    "     for i in range(1,l1+1):\n",
    "         D[0][i]=sys.maxsize\n",
    "     for j in range(1,l2+1):\n",
    "         D[j][0]=sys.maxsize\n",
    "     for j in range(1,l2+1):\n",
    "         for i in range(1,l1+1):\n",
    "             D[j][i]=M[j-1][i-1]+min(D[j-1][i],D[j][i-1],D[j-1][i-1]+M[j-1][i-1])\n",
    "     print(D[-1][-1])"
   ]
  },
  {
   "cell_type": "code",
   "execution_count": 7,
   "metadata": {},
   "outputs": [
    {
     "name": "stdout",
     "output_type": "stream",
     "text": [
      "[[ 1.]]\n"
     ]
    }
   ],
   "source": [
    "X=[1,2,3,4]\n",
    "Y=[1,3,3,4,5]\n",
    "dtw(X,Y)"
   ]
  },
  {
   "cell_type": "code",
   "execution_count": 8,
   "metadata": {},
   "outputs": [
    {
     "name": "stdout",
     "output_type": "stream",
     "text": [
      "2\n",
      "[[ 11511.]]\n"
     ]
    }
   ],
   "source": [
    "def pre4edit(data):\n",
    "    edit_list=[]\n",
    "    for user in data:\n",
    "        edit_tmp_list=[]\n",
    "        for user_behavior in user:\n",
    "            edit_str=''\n",
    "            for tmp in user_behavior:\n",
    "                edit_str=edit_str+behavior2char(tmp[0])\n",
    "            edit_tmp_list.append(edit_str)\n",
    "        edit_list.append(edit_tmp_list)\n",
    "    return edit_list\n",
    "\n",
    "\n",
    "def edit_distance(str1, str2):\n",
    "    matrix = [[i+j for j in range(len(str2) + 1)] for i in range(len(str1) + 1)]\n",
    "    for i in range(1,len(str1)+1):\n",
    "        for j in range(1,len(str2)+1):\n",
    "            if str1[i-1] == str2[j-1]:\n",
    "                d = 0\n",
    "            else:\n",
    "                d = 1\n",
    "            matrix[i][j] = min(matrix[i-1][j]+1,matrix[i][j-1]+1,matrix[i-1][j-1]+d)\n",
    "    return matrix[len(str1)][len(str2)]\n",
    "\n",
    "print(edit_distance('1234','12745'))\n",
    "print(manhattan_distances('1234','12745'))"
   ]
  },
  {
   "cell_type": "code",
   "execution_count": 9,
   "metadata": {},
   "outputs": [
    {
     "name": "stdout",
     "output_type": "stream",
     "text": [
      "0.5\n"
     ]
    },
    {
     "ename": "NameError",
     "evalue": "name 'data_seq' is not defined",
     "output_type": "error",
     "traceback": [
      "\u001b[0;31m---------------------------------------------------------------------------\u001b[0m",
      "\u001b[0;31mNameError\u001b[0m                                 Traceback (most recent call last)",
      "\u001b[0;32m<ipython-input-9-afff45c87423>\u001b[0m in \u001b[0;36m<module>\u001b[0;34m()\u001b[0m\n\u001b[1;32m     88\u001b[0m \u001b[0mb\u001b[0m\u001b[0;34m=\u001b[0m\u001b[0;34m[\u001b[0m\u001b[0;36m1\u001b[0m\u001b[0;34m,\u001b[0m\u001b[0;36m2\u001b[0m\u001b[0;34m,\u001b[0m\u001b[0;36m3\u001b[0m\u001b[0;34m,\u001b[0m\u001b[0;36m4\u001b[0m\u001b[0;34m]\u001b[0m\u001b[0;34m\u001b[0m\u001b[0m\n\u001b[1;32m     89\u001b[0m \u001b[0mprint\u001b[0m\u001b[0;34m(\u001b[0m\u001b[0mmy_algo\u001b[0m\u001b[0;34m(\u001b[0m\u001b[0ma\u001b[0m\u001b[0;34m,\u001b[0m\u001b[0mb\u001b[0m\u001b[0;34m,\u001b[0m\u001b[0;36m3\u001b[0m\u001b[0;34m)\u001b[0m\u001b[0;34m)\u001b[0m\u001b[0;34m\u001b[0m\u001b[0m\n\u001b[0;32m---> 90\u001b[0;31m \u001b[0mprint\u001b[0m\u001b[0;34m(\u001b[0m\u001b[0mDt\u001b[0m\u001b[0;34m(\u001b[0m\u001b[0mdata_seq\u001b[0m\u001b[0;34m,\u001b[0m\u001b[0mtime_seq\u001b[0m\u001b[0;34m,\u001b[0m\u001b[0mdata_seq\u001b[0m\u001b[0;34m,\u001b[0m\u001b[0mtime_seq\u001b[0m\u001b[0;34m)\u001b[0m\u001b[0;34m)\u001b[0m\u001b[0;34m\u001b[0m\u001b[0m\n\u001b[0m\u001b[1;32m     91\u001b[0m \u001b[0;34m\u001b[0m\u001b[0m\n\u001b[1;32m     92\u001b[0m \u001b[0mcom_seq\u001b[0m\u001b[0;34m=\u001b[0m\u001b[0mcompress_seq\u001b[0m\u001b[0;34m(\u001b[0m\u001b[0mdata_seq\u001b[0m\u001b[0;34m)\u001b[0m\u001b[0;34m\u001b[0m\u001b[0m\n",
      "\u001b[0;31mNameError\u001b[0m: name 'data_seq' is not defined"
     ]
    }
   ],
   "source": [
    "def compress_seq(data): #论文中对操作序列进行压缩\n",
    "    com_seq=[]\n",
    "    n=len(data)\n",
    "    i=0\n",
    "    index = -1\n",
    "    while i<n: #如果操作序列中连续对操作一样，则合并成一个\n",
    "        if(len(com_seq)==0 or data[i][0].find(com_seq[index]) == -1):\n",
    "            if(data[i][0]=='choose_start' or data[i][0]=='choose_end'):\n",
    "                com_seq.append('choose')\n",
    "            elif(data[i][0]=='move_start' or data[i][0]=='move_end'):\n",
    "                com_seq.append('move')\n",
    "            else:\n",
    "                com_seq.append(data[i][0])\n",
    "            index+=1\n",
    "        i+=1\n",
    "    return com_seq\n",
    "\n",
    "\n",
    "def k_gram(seq,k):\n",
    "    kgram=set()\n",
    "    n=len(seq)\n",
    "    for i in range(n-k+1): #获取连续k个序列的集合\n",
    "        kgram.add(tuple(seq[i:i+k]))\n",
    "    return kgram\n",
    "\n",
    "def Dk(gram_1,gram_2):\n",
    "    intersection=gram_1.intersection(gram_2)\n",
    "    union=gram_1.union(gram_2) #取交集，再取并集，1-两者相除\n",
    "    return 1-(len(intersection)/len(union))\n",
    "\n",
    "def event_time(data1_seq,data2_seq): #获得在各操作事件上的总时间和\n",
    "    event_time_set1=init_dic()\n",
    "    event_time_set2=init_dic()\n",
    "    n1=len(data1_seq)\n",
    "    n2=len(data2_seq)\n",
    "    for i in range(n1):\n",
    "        if(i+1<n1 and data1_seq[i]=='choose_start' and data1_seq[i+1]=='choose_end'): #获得选择控件的时间和，用end-start\n",
    "            event_time_set1[choose]=event_time_set1[choose]+data1_seq[i+1][2]-data1_seq[i][2]\n",
    "        if(i+1<n1 and data1_seq[i]=='move_start' and data1_seq[i+1]=='move_end'): #获得移动控件的时间和，用end-start\n",
    "            event_time_set1[move]=event_time_set1[move]+data1_seq[i+1][2]-data1_seq[i][2]\n",
    "        if(i+1<n1 and data1_seq[i]=='assign'): #获取赋值的时间和，用assign操作后的时间值减去assign的\n",
    "            event_time_set1[assign]=event_time_set1[assign]+data1_seq[i+1][2]-data1_seq[i][2]\n",
    "        if(i+1<n1 and data1_seq[i]=='connect'): #获取连线的时间和，用connect操作后的时间值减去connect的\n",
    "            event_time_set1[connect]=event_time_set1[connect]+data1_seq[i+1][2]-data1_seq[i][2]\n",
    "        \n",
    "    for i in range(n2):\n",
    "        if(i+1<n2 and data2_seq[i]=='choose_start' and data2_seq[i+1]=='choose_end'):\n",
    "            event_time_set2[choose]=event_time_set2[choose]+data2_seq[i+1][2]-data2_seq[i][2]\n",
    "        if(i+1<n2 and data2_seq[i]=='move_start' and data2_seq[i+1]=='move_end'):\n",
    "            event_time_set2[move]=event_time_set2[move]+data2_seq[i+1][2]-data2_seq[i][2]\n",
    "        if(i+1<n2 and data2_seq[i]=='assign'):\n",
    "            event_time_set2[assign]=event_time_set2[assign]+data2_seq[i+1][2]-data2_seq[i][2]\n",
    "        if(i+1<n2 and data2_seq[i]=='connect'):\n",
    "            event_time_set2[connect]=event_time_set2[connect]+data2_seq[i+1][2]-data2_seq[i][2]\n",
    "            \n",
    "    event_time_dis=0\n",
    "    for tmp in behavior_list:\n",
    "        if(max(event_time_set1[tmp],event_time_set2[tmp]) != 0): #计算两个序列各同个操作事件的事件差\n",
    "            event_time_dis=event_time_dis+abs(event_time_set1[tmp]-event_time_set2[tmp])/max(event_time_set1[tmp],event_time_set2[tmp])\n",
    "    event_time_dis=event_time_dis/len(behavior_list) #取平均值\n",
    "    return event_time_dis\n",
    "\n",
    "def avg_time_dis(t1_seq,t2_seq): #平均时间差值\n",
    "    t1_avg=0\n",
    "    t2_avg=0\n",
    "    avg_dis=0\n",
    "    n1=len(t1_seq)\n",
    "    n2=len(t2_seq)\n",
    "    for i in range(n1-1):\n",
    "        t1_avg=t1_avg+(t1_seq[i+1]-t1_seq[i]).total_seconds()\n",
    "    t1_avg=t1_avg/(n1-1)\n",
    "    for i in range(n2-1):\n",
    "        t2_avg=t2_avg+(t2_seq[i+1]-t2_seq[i]).total_seconds()\n",
    "    t2_avg=t2_avg/(n2-1)\n",
    "    avg_dis=abs(t1_avg-t2_avg)/max(t1_avg,t2_avg)\n",
    "    return avg_dis\n",
    "    \n",
    "\n",
    "def Dt(data1_seq,t1_seq,data2_seq,t2_seq):\n",
    "    return avg_time_dis(t1_seq,t2_seq)+event_time(data1_seq,data2_seq)\n",
    "\n",
    "def my_algo(x,y,k):\n",
    "    x_gram=k_gram(x,k)\n",
    "    y_gram=k_gram(y,k)\n",
    "    return Dk(x_gram,y_gram)\n",
    "\n",
    "a=[2,3,4]\n",
    "b=[1,2,3,4]\n",
    "print(my_algo(a,b,3))\n",
    "print(Dt(data_seq,time_seq,data_seq,time_seq))\n",
    "\n",
    "com_seq=compress_seq(data_seq)\n",
    "print(com_seq)"
   ]
  },
  {
   "cell_type": "code",
   "execution_count": 14,
   "metadata": {
    "collapsed": true
   },
   "outputs": [],
   "source": [
    "def calc_similarity(data):\n",
    "    pass\n",
    "\n",
    "\n",
    "\n",
    "def func(u, v):#直接获取距离矩阵\n",
    "    v_list = list(v)\n",
    "    pos_v = v_list.index(0.0)\n",
    "    return u[pos_v]\n",
    "\n",
    "def get_cluster_indices(cluster_assignments):\n",
    "    '''映射每一类至原数据索引\n",
    "    \n",
    "    Arguments:\n",
    "        cluster_assignments 层次聚类后的结果\n",
    "    \n",
    "    Returns:\n",
    "        [[idx1, idx2,..], [idx3]] -- 每一类下的索引\n",
    "    '''\n",
    "    n = cluster_assignments.max()\n",
    "    indices = []\n",
    "    for cluster_number in range(1, n + 1):\n",
    "        indices.append(np.where(cluster_assignments == cluster_number)[0])\n",
    "    \n",
    "    return indices\n",
    "\n",
    "\n",
    "def hierarchy_cluster(data,threshold, method='average'):\n",
    "    '''层次聚类\n",
    "    \n",
    "    Arguments:\n",
    "        data [[0, float, ...], [float, 0, ...]] -- 文档 i 和文档 j 的距离\n",
    "    \n",
    "    Keyword Arguments:\n",
    "        method {str} -- [linkage的方式： single、complete、average、centroid、median、ward] (default: {'average'})\n",
    "        threshold {float} -- 聚类簇之间的距离\n",
    "    Return:\n",
    "        cluster_number int -- 聚类个数\n",
    "        cluster [[idx1, idx2,..], [idx3]] -- 每一类下的索引\n",
    "    '''\n",
    "    data = np.array(data)\n",
    " \n",
    "    Z = linkage(data, method=method , metric = func) #这里的method使用平均数，metric使用自定义的，表示直接从距离矩阵里拿距离\n",
    "    cluster_assignments = fcluster(Z, t=threshold, criterion='distance')\n",
    "    print(type(cluster_assignments))\n",
    "    num_clusters = cluster_assignments.max()\n",
    "    indices = get_cluster_indices(cluster_assignments)\n",
    " \n",
    "    return num_clusters, indices\n"
   ]
  },
  {
   "cell_type": "code",
   "execution_count": 19,
   "metadata": {},
   "outputs": [
    {
     "name": "stdout",
     "output_type": "stream",
     "text": [
      "<class 'numpy.ndarray'>\n"
     ]
    },
    {
     "name": "stderr",
     "output_type": "stream",
     "text": [
      "/home/dope/anaconda3/lib/python3.6/site-packages/ipykernel_launcher.py:43: ClusterWarning: scipy.cluster: The symmetric non-negative hollow observation matrix looks suspiciously like an uncondensed distance matrix\n"
     ]
    }
   ],
   "source": [
    "test=[[0,1,2,3],\n",
    "      [1,0,4,5],\n",
    "      [2,4,0,6],\n",
    "      [3,5,6,0]]\n",
    "\n",
    "num_clusters, indices = hierarchy_cluster(test,threshold=3)"
   ]
  },
  {
   "cell_type": "code",
   "execution_count": 20,
   "metadata": {},
   "outputs": [
    {
     "name": "stdout",
     "output_type": "stream",
     "text": [
      "2 clusters\n",
      "cluster 1 is [0 1 2]\n",
      "cluster 2 is [3]\n"
     ]
    }
   ],
   "source": [
    "print(\"%d clusters\" % num_clusters)\n",
    "for k, ind in enumerate(indices):\n",
    "    print(\"cluster\", k + 1, \"is\", ind)"
   ]
  }
 ],
 "metadata": {
  "kernelspec": {
   "display_name": "Python 3",
   "language": "python",
   "name": "python3"
  },
  "language_info": {
   "codemirror_mode": {
    "name": "ipython",
    "version": 3
   },
   "file_extension": ".py",
   "mimetype": "text/x-python",
   "name": "python",
   "nbconvert_exporter": "python",
   "pygments_lexer": "ipython3",
   "version": "3.6.3"
  }
 },
 "nbformat": 4,
 "nbformat_minor": 2
}
